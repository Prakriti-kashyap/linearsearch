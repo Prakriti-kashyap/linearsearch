{
 "cells": [
  {
   "cell_type": "code",
   "execution_count": 94,
   "metadata": {},
   "outputs": [
    {
     "name": "stdout",
     "output_type": "stream",
     "text": [
      "Element is present at index 3\n"
     ]
    }
   ],
   "source": [
    "# Python3 code to linearly search x in arr[]. \n",
    "\n",
    "\n",
    "def search(arr, N, x): \n",
    "\n",
    "\tfor i in range(0, N): \n",
    "\t\tif (arr[i] == x): \n",
    "\t\t\treturn i \n",
    "\treturn -1\n",
    "\n",
    "\n",
    "# Driver Code \n",
    "if __name__ == \"__main__\": \n",
    "\tarr = [2, 3, 4, 10, 40] \n",
    "\tx = 10\n",
    "\tN = len(arr) \n",
    "\n",
    "\t# Function call \n",
    "\tresult = search(arr, N, x) \n",
    "\tif(result == -1): \n",
    "\t\tprint(\"Element is not present in array\") \n",
    "\telse: \n",
    "\t\tprint(\"Element is present at index\", result) \n"
   ]
  }
 ],
 "metadata": {
  "kernelspec": {
   "display_name": "Python 3",
   "language": "python",
   "name": "python3"
  },
  "language_info": {
   "codemirror_mode": {
    "name": "ipython",
    "version": 3
   },
   "file_extension": ".py",
   "mimetype": "text/x-python",
   "name": "python",
   "nbconvert_exporter": "python",
   "pygments_lexer": "ipython3",
   "version": "3.11.3"
  }
 },
 "nbformat": 4,
 "nbformat_minor": 2
}
